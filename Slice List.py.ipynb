{
 "cells": [
  {
   "cell_type": "code",
   "execution_count": 1,
   "id": "66534a71",
   "metadata": {},
   "outputs": [],
   "source": [
    "#1. Making a Slicing List"
   ]
  },
  {
   "cell_type": "code",
   "execution_count": 8,
   "id": "cdeed39e",
   "metadata": {},
   "outputs": [
    {
     "name": "stdout",
     "output_type": "stream",
     "text": [
      "['windows', 'Linux', 'Android', 'ios']\n",
      "Android\n"
     ]
    }
   ],
   "source": [
    "os = ['mac','windows','Linux','Android','ios']\n",
    "print(os[1:5])\n",
    "print(os[-2])"
   ]
  },
  {
   "cell_type": "code",
   "execution_count": null,
   "id": "f303f2a7",
   "metadata": {},
   "outputs": [],
   "source": [
    "#3. Using for Loop with Slice List"
   ]
  },
  {
   "cell_type": "code",
   "execution_count": 14,
   "id": "3a0437ce",
   "metadata": {},
   "outputs": [
    {
     "name": "stdout",
     "output_type": "stream",
     "text": [
      "Now we are using for loop slicing list \n",
      "mac\n",
      "windows\n",
      "Linux\n",
      "Android\n",
      "ios\n"
     ]
    }
   ],
   "source": [
    "os = ['mac','windows','Linux','Android','ios']\n",
    "print('Now we are using for loop slicing list ')\n",
    "for os in os[0:5]:\n",
    "    print(os)"
   ]
  },
  {
   "cell_type": "code",
   "execution_count": 25,
   "id": "e3fa92c7",
   "metadata": {},
   "outputs": [
    {
     "name": "stdout",
     "output_type": "stream",
     "text": [
      "1\n",
      "2\n",
      "3\n",
      "4\n",
      "5\n",
      "6\n",
      "7\n",
      "8\n",
      "9\n",
      "0\n"
     ]
    }
   ],
   "source": [
    "os = [1,2,3,4,5,6,7,8,9,0]\n",
    "for os in os[0:10]:\n",
    "    print(os)"
   ]
  },
  {
   "cell_type": "code",
   "execution_count": null,
   "id": "f2e34855",
   "metadata": {},
   "outputs": [],
   "source": [
    "#4. Copying Lists Using Slicing Lists"
   ]
  },
  {
   "cell_type": "code",
   "execution_count": 31,
   "id": "5cbf1dd1",
   "metadata": {},
   "outputs": [
    {
     "name": "stdout",
     "output_type": "stream",
     "text": [
      "prining programming Language list here\n",
      "['C', 'C++', 'Java', 'PHP', 'Swift']\n",
      "printing the copy one here\n",
      "['C', 'C++', 'Java', 'PHP', 'Swift']\n",
      "['C', 'C++', 'Java', 'PHP', 'Swift', 'Python']\n"
     ]
    }
   ],
   "source": [
    "progLang = ['C','C++','Java','PHP','Swift']\n",
    "cpy_progLang = progLang[:]\n",
    "print(\"prining programming Language list here\")\n",
    "print(progLang)\n",
    "print('printing the copy one here')\n",
    "print(cpy_progLang)\n",
    "cpy_progLang.append('Python')\n",
    "print(cpy_progLang)"
   ]
  }
 ],
 "metadata": {
  "kernelspec": {
   "display_name": "Python 3 (ipykernel)",
   "language": "python",
   "name": "python3"
  },
  "language_info": {
   "codemirror_mode": {
    "name": "ipython",
    "version": 3
   },
   "file_extension": ".py",
   "mimetype": "text/x-python",
   "name": "python",
   "nbconvert_exporter": "python",
   "pygments_lexer": "ipython3",
   "version": "3.9.12"
  }
 },
 "nbformat": 4,
 "nbformat_minor": 5
}
