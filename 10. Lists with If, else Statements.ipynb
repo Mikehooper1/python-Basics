{
 "cells": [
  {
   "cell_type": "code",
   "execution_count": 1,
   "id": "09720222",
   "metadata": {},
   "outputs": [],
   "source": [
    "#1. checking Values in Lists with if, else statements"
   ]
  },
  {
   "cell_type": "code",
   "execution_count": 10,
   "id": "c0872746",
   "metadata": {},
   "outputs": [
    {
     "name": "stdout",
     "output_type": "stream",
     "text": [
      "enter namesaad\n",
      "enter namemike\n",
      "yes it is in the list\n"
     ]
    }
   ],
   "source": [
    "mylist = ['mike','misbah','saad','shivendra','arish','zaid','adarsh']\n",
    "#to check if saad is in the list\n",
    "if (input(\"enter name\") and input(\"enter name\") in mylist):\n",
    "    print('yes it is in the list')\n",
    "else:\n",
    "        print('no its not in the lis')"
   ]
  },
  {
   "cell_type": "code",
   "execution_count": 15,
   "id": "cf0de8ff",
   "metadata": {
    "scrolled": true
   },
   "outputs": [
    {
     "name": "stdout",
     "output_type": "stream",
     "text": [
      "Enter name to check: Mark\n",
      "mark it's not in the list\n"
     ]
    }
   ],
   "source": [
    "mylist = ['mike','misbah','saad','shivendra','arish','zaid','adarsh']\n",
    "name = input(\"Enter name to check: \")\n",
    "if (name not in mylist ):\n",
    "    print(name.lower()+ \"\"+ \" it's not in the list\")\n",
    "else:\n",
    "    print(\" it's in the list\")\n"
   ]
  },
  {
   "cell_type": "code",
   "execution_count": 12,
   "id": "50ca8f67",
   "metadata": {},
   "outputs": [
    {
     "ename": "SyntaxError",
     "evalue": "invalid syntax (702138938.py, line 2)",
     "output_type": "error",
     "traceback": [
      "\u001b[1;36m  Input \u001b[1;32mIn [12]\u001b[1;36m\u001b[0m\n\u001b[1;33m    range(10,100)10 15 20 100\u001b[0m\n\u001b[1;37m                 ^\u001b[0m\n\u001b[1;31mSyntaxError\u001b[0m\u001b[1;31m:\u001b[0m invalid syntax\n"
     ]
    }
   ],
   "source": [
    "#a = [10,20,100]\n",
    "range(10,100)10 15 20 30 40 50 60 70 80 90 100\n",
    "for value in range(10):\n",
    "    print(value)"
   ]
  }
 ],
 "metadata": {
  "kernelspec": {
   "display_name": "Python 3 (ipykernel)",
   "language": "python",
   "name": "python3"
  },
  "language_info": {
   "codemirror_mode": {
    "name": "ipython",
    "version": 3
   },
   "file_extension": ".py",
   "mimetype": "text/x-python",
   "name": "python",
   "nbconvert_exporter": "python",
   "pygments_lexer": "ipython3",
   "version": "3.9.12"
  }
 },
 "nbformat": 4,
 "nbformat_minor": 5
}
