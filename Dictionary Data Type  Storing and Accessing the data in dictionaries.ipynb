{
 "cells": [
  {
   "cell_type": "code",
   "execution_count": 8,
   "id": "c5107d11",
   "metadata": {},
   "outputs": [
    {
     "name": "stdout",
     "output_type": "stream",
     "text": [
      "{'Name': 'Mike', 'empid': 58, 'email': 'mikehooper@gmail.com'}\n",
      "{'Name': 'Mike', 'empid': 58, 'email': 'mikehooper@gmail.com', 'Contactno': 9898679845}\n"
     ]
    }
   ],
   "source": [
    "dis = {\"Name\" : \"Mike\", \"empid\":58, \"email\":\"mikehooper@gmail.com\"}\n",
    "print(dis)\n",
    "dis[\"Contactno\"]= 9898679845\n",
    "print(dis)"
   ]
  },
  {
   "cell_type": "code",
   "execution_count": 22,
   "id": "1ce2a013",
   "metadata": {},
   "outputs": [
    {
     "name": "stdout",
     "output_type": "stream",
     "text": [
      "Mike\n"
     ]
    }
   ],
   "source": [
    "print(dis.get(\"Name\"))"
   ]
  }
 ],
 "metadata": {
  "kernelspec": {
   "display_name": "Python 3 (ipykernel)",
   "language": "python",
   "name": "python3"
  },
  "language_info": {
   "codemirror_mode": {
    "name": "ipython",
    "version": 3
   },
   "file_extension": ".py",
   "mimetype": "text/x-python",
   "name": "python",
   "nbconvert_exporter": "python",
   "pygments_lexer": "ipython3",
   "version": "3.9.12"
  }
 },
 "nbformat": 4,
 "nbformat_minor": 5
}
