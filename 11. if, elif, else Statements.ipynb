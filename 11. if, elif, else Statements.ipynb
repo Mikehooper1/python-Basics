{
 "cells": [
  {
   "cell_type": "code",
   "execution_count": 1,
   "id": "7ab053fa",
   "metadata": {},
   "outputs": [],
   "source": [
    "#1. if-elif, else statements"
   ]
  },
  {
   "cell_type": "code",
   "execution_count": 5,
   "id": "c8f3c111",
   "metadata": {},
   "outputs": [
    {
     "name": "stdout",
     "output_type": "stream",
     "text": [
      "to check if you are eligble for bank loan or not\n",
      "How much is your salary\n",
      "10000\n",
      "you are eligble for bank loan by paying $ 200 monthly\n"
     ]
    }
   ],
   "source": [
    "print(\"to check if you are eligble for bank loan or not\")\n",
    "salary = int(input(\"How much is your salary\\n\"))\n",
    "if(salary>1000):\n",
    "    amount = 200\n",
    "    print(\"you are eligble for bank loan by paying $\",amount,\"monthly\")\n",
    "elif(salary==1000):\n",
    "    amount = 500\n",
    "    print(\"you are eligible to get a bank loan with a higher monthly price $\",amount,\"monthly\")\n",
    "else:\n",
    "    print(\"you are not eligeble\")\n"
   ]
  },
  {
   "cell_type": "code",
   "execution_count": 6,
   "id": "20aa6190",
   "metadata": {},
   "outputs": [],
   "source": [
    "#3. Testing Multiple elif Expressions"
   ]
  },
  {
   "cell_type": "code",
   "execution_count": 17,
   "id": "84ec4075",
   "metadata": {},
   "outputs": [
    {
     "name": "stdout",
     "output_type": "stream",
     "text": [
      "This program is to check zoo discounts \n",
      ", and entrance price is $120\n",
      "How many times did you go to the zoo before\n",
      "7\n",
      "how many tickets you want5\n",
      "your toal included discount will be $ 250\n"
     ]
    }
   ],
   "source": [
    "print(\"This program is to check zoo discounts \")\n",
    "print(\", and entrance price is $120\")\n",
    "price = 120\n",
    "time = int(input(\"How many times did you go to the zoo before\\n\"))\n",
    "person =int(input(\"how many tickets you want\"))\n",
    "\n",
    "if(time == 3):\n",
    "    price = 120-30\n",
    "    print(\"your toal included discount will be $\",price*person)\n",
    "elif(time == 4):\n",
    "    price = 120-40\n",
    "    print(\"your toal included discount will be $\",price*person)\n",
    "elif(time == 5):\n",
    "    price = 120-50\n",
    "    print(\"your toal included discount will be $\",price*person)\n",
    "elif(time >= 6):\n",
    "    price = 120-70\n",
    "    print(\"your toal included discount will be $\",price*person)\n",
    "else:\n",
    "    print(\"your toal price is $\",price,\"and you are not eligble for any discount this time\")\n",
    "\n"
   ]
  }
 ],
 "metadata": {
  "kernelspec": {
   "display_name": "Python 3 (ipykernel)",
   "language": "python",
   "name": "python3"
  },
  "language_info": {
   "codemirror_mode": {
    "name": "ipython",
    "version": 3
   },
   "file_extension": ".py",
   "mimetype": "text/x-python",
   "name": "python",
   "nbconvert_exporter": "python",
   "pygments_lexer": "ipython3",
   "version": "3.9.12"
  }
 },
 "nbformat": 4,
 "nbformat_minor": 5
}
