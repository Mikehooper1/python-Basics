{
 "cells": [
  {
   "cell_type": "code",
   "execution_count": 28,
   "id": "0a7261e8",
   "metadata": {},
   "outputs": [
    {
     "name": "stdout",
     "output_type": "stream",
     "text": [
      "enter ur key: 110\n",
      "after continue satement\n",
      "after continue satement\n",
      "after continue satement\n",
      "after continue satement\n",
      "after continue satement\n",
      "after continue satement\n",
      "after continue satement\n",
      "after continue satement\n",
      "after continue satement\n",
      "after continue satement\n",
      "Elements found at index 10\n"
     ]
    }
   ],
   "source": [
    "a=[10,20,30,40,50,60,70,80,90,100,110,120]\n",
    "key = int(input(\"enter ur key: \"))\n",
    "for index,value in enumerate(a):\n",
    "    if value == key:\n",
    "        print(\"Elements found at index\",index)\n",
    "        break\n",
    "    else:\n",
    "        pass\n",
    "        print(\"after continue satement\")\n",
    "else:\n",
    "    print(\"Element not found\")"
   ]
  },
  {
   "cell_type": "code",
   "execution_count": 3,
   "id": "847f5b47",
   "metadata": {},
   "outputs": [
    {
     "name": "stdout",
     "output_type": "stream",
     "text": [
      "210\n"
     ]
    }
   ],
   "source": [
    "count =1 \n",
    "sum = 0\n",
    "while count<= 20:\n",
    "    sum = sum +count\n",
    "    count = count+1\n",
    "print(sum)"
   ]
  },
  {
   "cell_type": "code",
   "execution_count": 7,
   "id": "cd58616f",
   "metadata": {},
   "outputs": [
    {
     "name": "stdout",
     "output_type": "stream",
     "text": [
      " 1505\n",
      " 1540\n",
      " 1575\n",
      " 1610\n",
      " 1645\n",
      " 1680\n",
      " 1715\n",
      " 1750\n",
      " 1785\n",
      " 1820\n",
      " 1855\n",
      " 1890\n",
      " 1925\n",
      " 1960\n",
      " 1995\n",
      " 2030\n",
      " 2065\n",
      " 2100\n",
      " 2135\n",
      " 2170\n",
      " 2205\n",
      " 2240\n",
      " 2275\n",
      " 2310\n",
      " 2345\n",
      " 2380\n",
      " 2415\n",
      " 2450\n",
      " 2485\n",
      " 2520\n",
      " 2555\n",
      " 2590\n",
      " 2625\n",
      " 2660\n",
      " 2695\n"
     ]
    }
   ],
   "source": [
    "for a in range(1500,2700):\n",
    "    if a%7==0 and a%5==0:\n",
    "        print(\"\",a)"
   ]
  },
  {
   "cell_type": "code",
   "execution_count": 12,
   "id": "52bf1fce",
   "metadata": {},
   "outputs": [
    {
     "name": "stdout",
     "output_type": "stream",
     "text": [
      "Number of even no.:  4\n",
      "Number of odd no.:  5\n"
     ]
    }
   ],
   "source": [
    "number = (1,2,3,4,5,6,7,8,9)\n",
    "count_odd = 0\n",
    "count_even = 0\n",
    "for x in number:\n",
    "    if not x %2:\n",
    "        count_even+=1\n",
    "    else:\n",
    "        count_odd+=1\n",
    "print(\"Number of even no.: \",count_even)\n",
    "print(\"Number of odd no.: \",count_odd)"
   ]
  },
  {
   "cell_type": "code",
   "execution_count": 17,
   "id": "53c66738",
   "metadata": {},
   "outputs": [
    {
     "name": "stdout",
     "output_type": "stream",
     "text": [
      " 1\n",
      " 2\n",
      "fizz\n",
      " 4\n",
      "buzz\n",
      "fizz\n",
      " 7\n",
      " 8\n",
      "fizz\n",
      "buzz\n",
      " 11\n",
      "fizz\n",
      " 13\n",
      " 14\n",
      "fizz\n",
      " 16\n",
      " 17\n",
      "fizz\n",
      " 19\n",
      "buzz\n",
      "fizz\n",
      " 22\n",
      " 23\n",
      "fizz\n",
      "buzz\n",
      " 26\n",
      "fizz\n",
      " 28\n",
      " 29\n",
      "fizz\n",
      " 31\n",
      " 32\n",
      "fizz\n",
      " 34\n",
      "buzz\n",
      "fizz\n",
      " 37\n",
      " 38\n",
      "fizz\n",
      "buzz\n",
      " 41\n",
      "fizz\n",
      " 43\n",
      " 44\n",
      "fizz\n",
      " 46\n",
      " 47\n",
      "fizz\n",
      " 49\n"
     ]
    }
   ],
   "source": [
    "for i in range(1,50):\n",
    "    if i%3==0:\n",
    "        print('fizz')\n",
    "    elif i%5==0:\n",
    "        print('buzz')\n",
    "    else:\n",
    "        print(\"\",i)\n",
    "        "
   ]
  },
  {
   "cell_type": "code",
   "execution_count": 33,
   "id": "a12520cd",
   "metadata": {},
   "outputs": [
    {
     "name": "stdout",
     "output_type": "stream",
     "text": [
      "enter your no.: 5\n",
      "Sum of first  5 numbers is:  15\n",
      "Average of  5 numbers is:  3.0\n"
     ]
    }
   ],
   "source": [
    "n = int(input(\"enter your no.: \"))\n",
    "sum = 0\n",
    "for num in range(1,n+1,1):\n",
    "    sum = sum + num\n",
    "print(\"Sum of first \", n, \"numbers is: \", sum)\n",
    "av = sum/n\n",
    "print(\"Average of \", n, \"numbers is: \", av)"
   ]
  },
  {
   "cell_type": "code",
   "execution_count": 47,
   "id": "9055c706",
   "metadata": {},
   "outputs": [
    {
     "name": "stdout",
     "output_type": "stream",
     "text": [
      "enter no. to know thair facorial: 13\n",
      "The factorial of 13 is 6227020800\n"
     ]
    }
   ],
   "source": [
    "n = int(input(\"enter no. to know thair facorial: \"))\n",
    "factorial = 1\n",
    "\n",
    "#to check if he number is smaller then 0\n",
    "if n<0:\n",
    "    print(\"number is factorable\")\n",
    "elif n == 0:\n",
    "    print(\"the factor of 0 is 1\")\n",
    "else:\n",
    "    for i in range (1,n+1):\n",
    "        factorial = factorial*i\n",
    "    print(\"The factorial of\",n,\"is\",factorial)"
   ]
  }
 ],
 "metadata": {
  "kernelspec": {
   "display_name": "Python 3 (ipykernel)",
   "language": "python",
   "name": "python3"
  },
  "language_info": {
   "codemirror_mode": {
    "name": "ipython",
    "version": 3
   },
   "file_extension": ".py",
   "mimetype": "text/x-python",
   "name": "python",
   "nbconvert_exporter": "python",
   "pygments_lexer": "ipython3",
   "version": "3.9.12"
  }
 },
 "nbformat": 4,
 "nbformat_minor": 5
}
