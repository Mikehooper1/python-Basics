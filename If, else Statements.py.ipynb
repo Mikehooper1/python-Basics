{
 "cells": [
  {
   "cell_type": "code",
   "execution_count": null,
   "id": "de2b026b",
   "metadata": {},
   "outputs": [],
   "source": [
    "#1. Using if and else Statements"
   ]
  },
  {
   "cell_type": "code",
   "execution_count": 5,
   "id": "903ed1c8",
   "metadata": {},
   "outputs": [
    {
     "name": "stdout",
     "output_type": "stream",
     "text": [
      "13\n",
      "var is Not = 10\n"
     ]
    }
   ],
   "source": [
    "var = input(\"\")\n",
    "if var ==10:\n",
    "    print(\"var = 10\")\n",
    "else:\n",
    "    print(\"var is Not = 10\")"
   ]
  },
  {
   "cell_type": "code",
   "execution_count": 6,
   "id": "80b1bedc",
   "metadata": {},
   "outputs": [],
   "source": [
    "#4. Greater, less than, and equal operator"
   ]
  },
  {
   "cell_type": "code",
   "execution_count": 12,
   "id": "27fc3e87",
   "metadata": {},
   "outputs": [
    {
     "name": "stdout",
     "output_type": "stream",
     "text": [
      "enter no.200\n",
      "enter second no.20\n",
      "Yes\n",
      "No\n",
      "No\n"
     ]
    }
   ],
   "source": [
    "greater =input(\"enter no.\")\n",
    "less = input(\"enter second no.\")\n",
    "if greater >= less:\n",
    "    print('Yes')\n",
    "else:\n",
    "    print(\"No\")\n",
    "#_____________________________________\n",
    "if greater <= less:\n",
    "    print('Yes')\n",
    "else:\n",
    "    print(\"No\")\n",
    "#_____________________________________\n",
    "if greater == less:\n",
    "    print('Yes')\n",
    "else:\n",
    "    print(\"No\")"
   ]
  },
  {
   "cell_type": "code",
   "execution_count": null,
   "id": "78a7d932",
   "metadata": {},
   "outputs": [],
   "source": [
    "#6. Compare Strings with if, else statements"
   ]
  },
  {
   "cell_type": "code",
   "execution_count": 18,
   "id": "0ccbeb35",
   "metadata": {},
   "outputs": [
    {
     "name": "stdout",
     "output_type": "stream",
     "text": [
      "nike\n",
      "nike\n",
      "print two strings are equal\n"
     ]
    }
   ],
   "source": [
    "name1 = input(\"\")\n",
    "name2 = input(\"\")\n",
    "if name1 == name2:\n",
    "    print('print two strings are equal')\n",
    "else:\n",
    "    print(\"print two strings are not equal\")"
   ]
  },
  {
   "cell_type": "code",
   "execution_count": 19,
   "id": "ae13475a",
   "metadata": {},
   "outputs": [],
   "source": [
    "#8. Using NOT Equal with if, else Statements"
   ]
  },
  {
   "cell_type": "code",
   "execution_count": 22,
   "id": "bf6f6997",
   "metadata": {},
   "outputs": [
    {
     "name": "stdout",
     "output_type": "stream",
     "text": [
      "90\n",
      "enter second no.909\n",
      "Num is not equal second no.\n"
     ]
    }
   ],
   "source": [
    "num = input(\"\")\n",
    "if num != input('enter second no.'):\n",
    "    print('Num is not equal second no.')\n",
    "else:\n",
    "    print('num is equal')"
   ]
  },
  {
   "cell_type": "code",
   "execution_count": 23,
   "id": "7708d384",
   "metadata": {},
   "outputs": [],
   "source": [
    "#10. Using (and) with if, else statement"
   ]
  },
  {
   "cell_type": "code",
   "execution_count": 27,
   "id": "699e5be0",
   "metadata": {},
   "outputs": [
    {
     "name": "stdout",
     "output_type": "stream",
     "text": [
      "Enter no.mike\n",
      "Enter second no.mike\n",
      "True\n"
     ]
    }
   ],
   "source": [
    "number = input(\"Enter no.\")\n",
    "number2 = input('Enter second no.')\n",
    "if (number >= number2 and number == number2):\n",
    "    print('True')\n",
    "else:\n",
    "    print('False')"
   ]
  },
  {
   "cell_type": "code",
   "execution_count": 28,
   "id": "f52e6413",
   "metadata": {},
   "outputs": [],
   "source": [
    "#12. Using (or) with if, else statement"
   ]
  },
  {
   "cell_type": "code",
   "execution_count": 33,
   "id": "c9a76dfd",
   "metadata": {},
   "outputs": [
    {
     "name": "stdout",
     "output_type": "stream",
     "text": [
      "Enter no.40\n",
      "Enter second no.40\n",
      "True\n"
     ]
    }
   ],
   "source": [
    "number = input(\"Enter no.\")\n",
    "number2 = input('Enter second no.')\n",
    "if (number == number2 or number == number2):\n",
    "    num3 = 0\n",
    "    print('True')\n",
    "else:\n",
    "    print('False')"
   ]
  }
 ],
 "metadata": {
  "kernelspec": {
   "display_name": "Python 3 (ipykernel)",
   "language": "python",
   "name": "python3"
  },
  "language_info": {
   "codemirror_mode": {
    "name": "ipython",
    "version": 3
   },
   "file_extension": ".py",
   "mimetype": "text/x-python",
   "name": "python",
   "nbconvert_exporter": "python",
   "pygments_lexer": "ipython3",
   "version": "3.9.12"
  }
 },
 "nbformat": 4,
 "nbformat_minor": 5
}
