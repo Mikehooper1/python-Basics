{
 "cells": [
  {
   "cell_type": "code",
   "execution_count": null,
   "id": "033eb080",
   "metadata": {},
   "outputs": [],
   "source": [
    "#13 using for loop"
   ]
  },
  {
   "cell_type": "code",
   "execution_count": 3,
   "id": "d1025735",
   "metadata": {},
   "outputs": [
    {
     "name": "stdout",
     "output_type": "stream",
     "text": [
      "I love my book\n",
      "I love my pen\n",
      "I love my car\n",
      "I love my bike\n"
     ]
    }
   ],
   "source": [
    "\n",
    "List = [\"book\",\"pen\",\"car\",\"bike\"]\n",
    "for List in List:\n",
    "    print(\"I love my \"+ List)"
   ]
  },
  {
   "cell_type": "markdown",
   "id": "0122635a",
   "metadata": {},
   "source": [
    "# 12. Using for Loop with range() Method"
   ]
  },
  {
   "cell_type": "code",
   "execution_count": 7,
   "id": "8867ab7e",
   "metadata": {},
   "outputs": [
    {
     "name": "stdout",
     "output_type": "stream",
     "text": [
      "1\n",
      "2\n",
      "3\n",
      "4\n"
     ]
    }
   ],
   "source": [
    "for value in range(1,5):\n",
    "    print(value)"
   ]
  },
  {
   "cell_type": "code",
   "execution_count": 8,
   "id": "353a5bb3",
   "metadata": {},
   "outputs": [],
   "source": [
    "#14. Using min, max, and sum with Numbers in Lists"
   ]
  },
  {
   "cell_type": "code",
   "execution_count": 9,
   "id": "46989ee7",
   "metadata": {},
   "outputs": [
    {
     "name": "stdout",
     "output_type": "stream",
     "text": [
      "1\n"
     ]
    }
   ],
   "source": [
    "ListNum= [1,2,3,4,5,6,7,8,9,10]\n",
    "print(min(ListNum))"
   ]
  },
  {
   "cell_type": "code",
   "execution_count": 10,
   "id": "57c6085b",
   "metadata": {},
   "outputs": [
    {
     "name": "stdout",
     "output_type": "stream",
     "text": [
      "10\n"
     ]
    }
   ],
   "source": [
    "ListNum= [1,2,3,4,5,6,7,8,9,10]\n",
    "print(max(ListNum))"
   ]
  },
  {
   "cell_type": "code",
   "execution_count": 11,
   "id": "5165a040",
   "metadata": {},
   "outputs": [
    {
     "name": "stdout",
     "output_type": "stream",
     "text": [
      "55\n"
     ]
    }
   ],
   "source": [
    "ListNum= [1,2,3,4,5,6,7,8,9,10]\n",
    "print(sum(ListNum))"
   ]
  }
 ],
 "metadata": {
  "kernelspec": {
   "display_name": "Python 3 (ipykernel)",
   "language": "python",
   "name": "python3"
  },
  "language_info": {
   "codemirror_mode": {
    "name": "ipython",
    "version": 3
   },
   "file_extension": ".py",
   "mimetype": "text/x-python",
   "name": "python",
   "nbconvert_exporter": "python",
   "pygments_lexer": "ipython3",
   "version": "3.9.12"
  }
 },
 "nbformat": 4,
 "nbformat_minor": 5
}
